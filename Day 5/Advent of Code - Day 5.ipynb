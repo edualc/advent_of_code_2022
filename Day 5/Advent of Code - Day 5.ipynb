{
 "cells": [
  {
   "cell_type": "markdown",
   "id": "6eabebc7",
   "metadata": {},
   "source": [
    "https://adventofcode.com/2022/day/5"
   ]
  },
  {
   "cell_type": "markdown",
   "id": "f823c6a0",
   "metadata": {},
   "source": [
    "--- Day 5: Supply Stacks ---\n",
    "    \n",
    "The expedition can depart as soon as the final supplies have been unloaded from the ships. Supplies are stored in stacks of marked crates, but because the needed supplies are buried under many other crates, the crates need to be rearranged.\n",
    "\n",
    "The ship has a giant cargo crane capable of moving crates between stacks. To ensure none of the crates get crushed or fall over, the crane operator will rearrange them in a series of carefully-planned steps. After the crates are rearranged, the desired crates will be at the top of each stack.\n",
    "\n",
    "The Elves don't want to interrupt the crane operator during this delicate procedure, but they forgot to ask her which crate will end up where, and they want to be ready to unload them as soon as possible so they can embark.\n",
    "\n",
    "They do, however, have a drawing of the starting stacks of crates and the rearrangement procedure (your puzzle input). For example:\n",
    "\n",
    "    [D]    \n",
    "[N] [C]    \n",
    "[Z] [M] [P]\n",
    " 1   2   3 \n",
    "\n",
    "move 1 from 2 to 1\n",
    "move 3 from 1 to 3\n",
    "move 2 from 2 to 1\n",
    "move 1 from 1 to 2\n",
    "\n",
    "In this example, there are three stacks of crates. Stack 1 contains two crates: crate Z is on the bottom, and crate N is on top. Stack 2 contains three crates; from bottom to top, they are crates M, C, and D. Finally, stack 3 contains a single crate, P.\n",
    "\n",
    "Then, the rearrangement procedure is given. In each step of the procedure, a quantity of crates is moved from one stack to a different stack. In the first step of the above rearrangement procedure, one crate is moved from stack 2 to stack 1, resulting in this configuration:\n",
    "\n",
    "[D]        \n",
    "[N] [C]    \n",
    "[Z] [M] [P]\n",
    " 1   2   3 \n",
    "    \n",
    "In the second step, three crates are moved from stack 1 to stack 3. Crates are moved one at a time, so the first crate to be moved (D) ends up below the second and third crates:\n",
    "\n",
    "        [Z]\n",
    "        [N]\n",
    "    [C] [D]\n",
    "    [M] [P]\n",
    " 1   2   3\n",
    "\n",
    "Then, both crates are moved from stack 2 to stack 1. Again, because crates are moved one at a time, crate C ends up below crate M:\n",
    "\n",
    "        [Z]\n",
    "        [N]\n",
    "[M]     [D]\n",
    "[C]     [P]\n",
    " 1   2   3\n",
    "    \n",
    "Finally, one crate is moved from stack 1 to stack 2:\n",
    "\n",
    "        [Z]\n",
    "        [N]\n",
    "        [D]\n",
    "[C] [M] [P]\n",
    " 1   2   3\n",
    "    \n",
    "The Elves just need to know which crate will end up on top of each stack; in this example, the top crates are C in stack 1, M in stack 2, and Z in stack 3, so you should combine these together and give the Elves the message CMZ.\n",
    "\n",
    "After the rearrangement procedure completes, what crate ends up on top of each stack?"
   ]
  },
  {
   "cell_type": "markdown",
   "id": "08231863",
   "metadata": {},
   "source": [
    "# Part 1"
   ]
  },
  {
   "cell_type": "code",
   "execution_count": 42,
   "id": "e15bb86e",
   "metadata": {},
   "outputs": [],
   "source": [
    "list_of_stacks = [[] for _ in range(9)]\n",
    "with open('./input5.txt', 'r') as file:\n",
    "    for _ in range(8):\n",
    "        line = file.readline().rstrip().split(' ')\n",
    "        index = 0\n",
    "        space_counter = 0\n",
    "        for elem in line:\n",
    "            if '[' in elem:\n",
    "                list_of_stacks[index].append(elem[1:-1])\n",
    "                index += 1\n",
    "            else:\n",
    "                space_counter += 1\n",
    "                if space_counter == 4:\n",
    "                    index += 1\n",
    "                    space_counter = 0\n",
    "    list_of_stacks = [stack[::-1] for stack in list_of_stacks]\n",
    "    for _ in range(2):\n",
    "        file.readline()\n",
    "    while (action := file.readline().rstrip()):\n",
    "        amount, loc = action.lstrip('move ').split(' from ')\n",
    "        amount = int(amount)\n",
    "        from_, to_ = [int(elem) for elem in loc.split(' to ')]\n",
    "        for _ in range(amount):\n",
    "            elem = list_of_stacks[from_ - 1].pop()\n",
    "            list_of_stacks[to_ - 1].append(elem)"
   ]
  },
  {
   "cell_type": "code",
   "execution_count": 43,
   "id": "ec44f480",
   "metadata": {},
   "outputs": [
    {
     "name": "stdout",
     "output_type": "stream",
     "text": [
      "SBPQRSCDF\n"
     ]
    }
   ],
   "source": [
    "result = ''\n",
    "for stack in list_of_stacks:\n",
    "    result += stack.pop()\n",
    "print(result)"
   ]
  },
  {
   "cell_type": "markdown",
   "id": "80a77d99",
   "metadata": {},
   "source": [
    "# Part 2"
   ]
  },
  {
   "cell_type": "markdown",
   "id": "a20ca695",
   "metadata": {},
   "source": [
    "--- Part Two ---\n",
    "\n",
    "As you watch the crane operator expertly rearrange the crates, you notice the process isn't following your prediction.\n",
    "\n",
    "Some mud was covering the writing on the side of the crane, and you quickly wipe it away. The crane isn't a CrateMover 9000 - it's a CrateMover 9001.\n",
    "\n",
    "The CrateMover 9001 is notable for many new and exciting features: air conditioning, leather seats, an extra cup holder, and the ability to pick up and move multiple crates at once.\n",
    "\n",
    "Again considering the example above, the crates begin in the same configuration:\n",
    "\n",
    "    [D]    \n",
    "[N] [C]    \n",
    "[Z] [M] [P]\n",
    " 1   2   3 \n",
    " \n",
    "Moving a single crate from stack 2 to stack 1 behaves the same as before:\n",
    "\n",
    "[D]        \n",
    "[N] [C]    \n",
    "[Z] [M] [P]\n",
    " 1   2   3 \n",
    " \n",
    "However, the action of moving three crates from stack 1 to stack 3 means that those three moved crates stay in the same order, resulting in this new configuration:\n",
    "\n",
    "        [D]\n",
    "        [N]\n",
    "    [C] [Z]\n",
    "    [M] [P]\n",
    " 1   2   3\n",
    " \n",
    "Next, as both crates are moved from stack 2 to stack 1, they retain their order as well:\n",
    "\n",
    "        [D]\n",
    "        [N]\n",
    "[C]     [Z]\n",
    "[M]     [P]\n",
    " 1   2   3\n",
    " \n",
    "Finally, a single crate is still moved from stack 1 to stack 2, but now it's crate C that gets moved:\n",
    "\n",
    "        [D]\n",
    "        [N]\n",
    "        [Z]\n",
    "[M] [C] [P]\n",
    " 1   2   3\n",
    " \n",
    "In this example, the CrateMover 9001 has put the crates in a totally different order: MCD.\n",
    "\n",
    "Before the rearrangement process finishes, update your simulation so that the Elves know where they should stand to be ready to unload the final supplies. After the rearrangement procedure completes, what crate ends up on top of each stack?"
   ]
  },
  {
   "cell_type": "code",
   "execution_count": 53,
   "id": "6b28530c",
   "metadata": {},
   "outputs": [],
   "source": [
    "list_of_stacks = [[] for _ in range(9)]\n",
    "with open('./input5.txt', 'r') as file:\n",
    "    for _ in range(8):\n",
    "        line = file.readline().rstrip().split(' ')\n",
    "        index = 0\n",
    "        space_counter = 0\n",
    "        for elem in line:\n",
    "            if '[' in elem:\n",
    "                list_of_stacks[index].append(elem[1:-1])\n",
    "                index += 1\n",
    "            else:\n",
    "                space_counter += 1\n",
    "                if space_counter == 4:\n",
    "                    index += 1\n",
    "                    space_counter = 0\n",
    "    list_of_stacks = [stack[::-1] for stack in list_of_stacks]\n",
    "    for _ in range(2):\n",
    "        file.readline()\n",
    "    while (action := file.readline().rstrip()):\n",
    "        amount, loc = action.lstrip('move ').split(' from ')\n",
    "        amount = int(amount)\n",
    "        from_, to_ = [int(elem) for elem in loc.split(' to ')]\n",
    "        elem = list_of_stacks[from_ - 1][-amount:]\n",
    "        list_of_stacks[from_ - 1] = list_of_stacks[from_ - 1][:-amount]\n",
    "        list_of_stacks[to_ - 1].extend(elem)"
   ]
  },
  {
   "cell_type": "code",
   "execution_count": 54,
   "id": "6df26b17",
   "metadata": {},
   "outputs": [
    {
     "name": "stdout",
     "output_type": "stream",
     "text": [
      "RGLVRCQSB\n"
     ]
    }
   ],
   "source": [
    "result = ''\n",
    "for stack in list_of_stacks:\n",
    "    result += stack.pop()\n",
    "print(result)"
   ]
  }
 ],
 "metadata": {
  "kernelspec": {
   "display_name": "Python (base)",
   "language": "python",
   "name": "base"
  },
  "language_info": {
   "codemirror_mode": {
    "name": "ipython",
    "version": 3
   },
   "file_extension": ".py",
   "mimetype": "text/x-python",
   "name": "python",
   "nbconvert_exporter": "python",
   "pygments_lexer": "ipython3",
   "version": "3.9.7"
  }
 },
 "nbformat": 4,
 "nbformat_minor": 5
}
