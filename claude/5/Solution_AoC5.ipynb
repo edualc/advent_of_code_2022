{
 "cells": [
  {
   "cell_type": "code",
   "execution_count": 12,
   "id": "fd3df487",
   "metadata": {},
   "outputs": [],
   "source": [
    "import pandas as pd\n",
    "import numpy as np\n",
    "import re"
   ]
  },
  {
   "cell_type": "code",
   "execution_count": 50,
   "id": "4922c463",
   "metadata": {},
   "outputs": [
    {
     "name": "stdout",
     "output_type": "stream",
     "text": [
      "Using 9 stacks.\n",
      "                        [R] [J] [W]\n",
      "            [R] [N]     [T] [T] [C]\n",
      "[R]         [P] [G]     [J] [P] [T]\n",
      "[Q]     [C] [M] [V]     [F] [F] [H]\n",
      "[G] [P] [M] [S] [Z]     [Z] [C] [Q]\n",
      "[P] [C] [P] [Q] [J] [J] [P] [H] [Z]\n",
      "[C] [T] [H] [T] [H] [P] [G] [L] [V]\n",
      "[F] [W] [B] [L] [P] [D] [L] [N] [G]\n",
      " 1   2   3   4   5   6   7   8   9 \n"
     ]
    }
   ],
   "source": [
    "with open('input.txt', 'r') as f:\n",
    "    lines = f.readlines()\n",
    "\n",
    "stacks, moves = [], []\n",
    "\n",
    "stack_part = True\n",
    "for line in lines:\n",
    "    if line == '\\n':\n",
    "        stack_part = False\n",
    "        continue\n",
    "    if stack_part:\n",
    "        stacks.append(line[:-1])\n",
    "    else:\n",
    "        moves.append(line[:-1])\n",
    "        \n",
    "num_stacks = int(stacks[-1].strip()[-1])\n",
    "print(f\"Using {num_stacks} stacks.\")\n",
    "\n",
    "for s in stacks:\n",
    "    print(s)"
   ]
  },
  {
   "cell_type": "code",
   "execution_count": 51,
   "id": "6855bb63",
   "metadata": {},
   "outputs": [
    {
     "name": "stdout",
     "output_type": "stream",
     "text": [
      "                         [R] [J] [W]\n"
     ]
    },
    {
     "data": {
      "text/plain": [
       "[array([' ', ' ', ' ', ' '], dtype='<U1'),\n",
       " array([' ', ' ', ' ', ' '], dtype='<U1'),\n",
       " array([' ', ' ', ' ', ' '], dtype='<U1'),\n",
       " array([' ', ' ', ' ', ' '], dtype='<U1'),\n",
       " array([' ', ' ', ' ', ' '], dtype='<U1'),\n",
       " array([' ', ' ', ' ', ' '], dtype='<U1'),\n",
       " array([' ', '[', 'R', ']'], dtype='<U1'),\n",
       " array([' ', '[', 'J', ']'], dtype='<U1'),\n",
       " array([' ', '[', 'W', ']'], dtype='<U1')]"
      ]
     },
     "execution_count": 51,
     "metadata": {},
     "output_type": "execute_result"
    }
   ],
   "source": [
    "pattern = '\\[\\w\\]'\n",
    "re.findall(pattern, stacks[-2])\n",
    "\n",
    "tmp = [' '] + list(stacks[0])\n",
    "print(''.join(tmp))\n",
    "np.array_split(tmp, len(tmp) // 4)"
   ]
  },
  {
   "cell_type": "code",
   "execution_count": 81,
   "id": "d076f4e2",
   "metadata": {},
   "outputs": [
    {
     "data": {
      "text/plain": [
       "[['F', 'C', 'P', 'G', 'Q', 'R'],\n",
       " ['W', 'T', 'C', 'P'],\n",
       " ['B', 'H', 'P', 'M', 'C'],\n",
       " ['L', 'T', 'Q', 'S', 'M', 'P', 'R'],\n",
       " ['P', 'H', 'J', 'Z', 'V', 'G', 'N'],\n",
       " ['D', 'P', 'J'],\n",
       " ['L', 'G', 'P', 'Z', 'F', 'J', 'T', 'R'],\n",
       " ['N', 'L', 'H', 'C', 'F', 'P', 'T', 'J'],\n",
       " ['G', 'V', 'Z', 'Q', 'H', 'T', 'C', 'W']]"
      ]
     },
     "execution_count": 81,
     "metadata": {},
     "output_type": "execute_result"
    }
   ],
   "source": [
    "all_stacks = [[] for _ in range(num_stacks)]\n",
    "\n",
    "for i, s in enumerate(stacks[:-1]):\n",
    "    tmp = [' '] + list(s)\n",
    "    \n",
    "    for j, c in enumerate(np.array_split(tmp, len(tmp)//4)):\n",
    "        #print(f\"[{i}]\\t{j}\\t{c[-2]}\")\n",
    "        if c[-2] != ' ':\n",
    "            all_stacks[j].insert(0, c[-2])\n",
    "            \n",
    "all_stacks"
   ]
  },
  {
   "cell_type": "code",
   "execution_count": 82,
   "id": "f21566b7",
   "metadata": {},
   "outputs": [
    {
     "name": "stdout",
     "output_type": "stream",
     "text": [
      "------------------------------------------------------------\n",
      "move 2 from 2 to 8 (from 2 to 8)\n",
      "2 ['W', 'T', 'C', 'P']\n",
      "8 ['N', 'L', 'H', 'C', 'F', 'P', 'T', 'J']\n",
      "\n",
      "2 ['W', 'T']\n",
      "8 ['N', 'L', 'H', 'C', 'F', 'P', 'T', 'J', 'P', 'C']\n",
      "\n",
      "------------------------------------------------------------\n",
      "move 2 from 1 to 6 (from 1 to 6)\n",
      "1 ['F', 'C', 'P', 'G', 'Q', 'R']\n",
      "6 ['D', 'P', 'J']\n",
      "\n",
      "1 ['F', 'C', 'P', 'G']\n",
      "6 ['D', 'P', 'J', 'R', 'Q']\n",
      "\n",
      "------------------------------------------------------------\n",
      "move 8 from 7 to 1 (from 7 to 1)\n",
      "7 ['L', 'G', 'P', 'Z', 'F', 'J', 'T', 'R']\n",
      "1 ['F', 'C', 'P', 'G']\n",
      "\n",
      "7 []\n",
      "1 ['F', 'C', 'P', 'G', 'R', 'T', 'J', 'F', 'Z', 'P', 'G', 'L']\n",
      "\n",
      "------------------------------------------------------------\n",
      "move 7 from 5 to 4 (from 5 to 4)\n",
      "5 ['P', 'H', 'J', 'Z', 'V', 'G', 'N']\n",
      "4 ['L', 'T', 'Q', 'S', 'M', 'P', 'R']\n",
      "\n",
      "5 []\n",
      "4 ['L', 'T', 'Q', 'S', 'M', 'P', 'R', 'N', 'G', 'V', 'Z', 'J', 'H', 'P']\n",
      "\n",
      "------------------------------------------------------------\n",
      "move 1 from 6 to 4 (from 6 to 4)\n",
      "6 ['D', 'P', 'J', 'R', 'Q']\n",
      "4 ['L', 'T', 'Q', 'S', 'M', 'P', 'R', 'N', 'G', 'V', 'Z', 'J', 'H', 'P']\n",
      "\n",
      "6 ['D', 'P', 'J', 'R']\n",
      "4 ['L', 'T', 'Q', 'S', 'M', 'P', 'R', 'N', 'G', 'V', 'Z', 'J', 'H', 'P', 'Q']\n",
      "\n",
      "------------------------------------------------------------\n",
      "move 1 from 6 to 3 (from 6 to 3)\n",
      "6 ['D', 'P', 'J', 'R']\n",
      "3 ['B', 'H', 'P', 'M', 'C']\n",
      "\n",
      "6 ['D', 'P', 'J']\n",
      "3 ['B', 'H', 'P', 'M', 'C', 'R']\n",
      "\n",
      "------------------------------------------------------------\n",
      "move 6 from 3 to 5 (from 3 to 5)\n",
      "3 ['B', 'H', 'P', 'M', 'C', 'R']\n",
      "5 []\n",
      "\n",
      "3 []\n",
      "5 ['R', 'C', 'M', 'P', 'H', 'B']\n",
      "\n",
      "------------------------------------------------------------\n",
      "move 9 from 8 to 1 (from 8 to 1)\n",
      "8 ['N', 'L', 'H', 'C', 'F', 'P', 'T', 'J', 'P', 'C']\n",
      "1 ['F', 'C', 'P', 'G', 'R', 'T', 'J', 'F', 'Z', 'P', 'G', 'L']\n",
      "\n",
      "8 ['N']\n",
      "1 ['F', 'C', 'P', 'G', 'R', 'T', 'J', 'F', 'Z', 'P', 'G', 'L', 'C', 'P', 'J', 'T', 'P', 'F', 'C', 'H', 'L']\n",
      "\n",
      "------------------------------------------------------------\n",
      "move 3 from 6 to 7 (from 6 to 7)\n",
      "6 ['D', 'P', 'J']\n",
      "7 []\n",
      "\n",
      "6 []\n",
      "7 ['J', 'P', 'D']\n",
      "\n",
      "------------------------------------------------------------\n",
      "move 14 from 4 to 1 (from 4 to 1)\n",
      "4 ['L', 'T', 'Q', 'S', 'M', 'P', 'R', 'N', 'G', 'V', 'Z', 'J', 'H', 'P', 'Q']\n",
      "1 ['F', 'C', 'P', 'G', 'R', 'T', 'J', 'F', 'Z', 'P', 'G', 'L', 'C', 'P', 'J', 'T', 'P', 'F', 'C', 'H', 'L']\n",
      "\n",
      "4 ['L']\n",
      "1 ['F', 'C', 'P', 'G', 'R', 'T', 'J', 'F', 'Z', 'P', 'G', 'L', 'C', 'P', 'J', 'T', 'P', 'F', 'C', 'H', 'L', 'Q', 'P', 'H', 'J', 'Z', 'V', 'G', 'N', 'R', 'P', 'M', 'S', 'Q', 'T']\n",
      "\n"
     ]
    }
   ],
   "source": [
    "for mid, move in enumerate(moves):\n",
    "    quantity = int(move.split(' from ')[0].split('move ')[1])\n",
    "    source, target = move.split(' from ')[1].split(' to ')\n",
    "    # reduce to match stack indices\n",
    "    source = int(source) - 1\n",
    "    target = int(target) - 1\n",
    "    \n",
    "    if mid < 10:\n",
    "        print('---' * 20)\n",
    "        print(f\"{move} (from {source+1} to {target+1})\")\n",
    "        print(source+1, all_stacks[source])\n",
    "        print(target+1, all_stacks[target])\n",
    "        print()\n",
    "    \n",
    "    for _ in range(quantity):\n",
    "        all_stacks[target].append(all_stacks[source].pop())    \n",
    "    \n",
    "    if mid < 10:\n",
    "        print(source+1, all_stacks[source])\n",
    "        print(target+1, all_stacks[target])\n",
    "        print()"
   ]
  },
  {
   "cell_type": "code",
   "execution_count": 86,
   "id": "3de6a5ca",
   "metadata": {},
   "outputs": [
    {
     "data": {
      "text/plain": [
       "'DHBJQJCCW'"
      ]
     },
     "execution_count": 86,
     "metadata": {},
     "output_type": "execute_result"
    }
   ],
   "source": [
    "''.join([s[-1] for s in all_stacks])"
   ]
  },
  {
   "cell_type": "markdown",
   "id": "60f16d65",
   "metadata": {},
   "source": [
    "#### Elf Crane Mover 9001"
   ]
  },
  {
   "cell_type": "code",
   "execution_count": 92,
   "id": "20a3ddeb",
   "metadata": {},
   "outputs": [
    {
     "data": {
      "text/plain": [
       "[['F', 'C', 'P', 'G', 'Q', 'R'],\n",
       " ['W', 'T', 'C', 'P'],\n",
       " ['B', 'H', 'P', 'M', 'C'],\n",
       " ['L', 'T', 'Q', 'S', 'M', 'P', 'R'],\n",
       " ['P', 'H', 'J', 'Z', 'V', 'G', 'N'],\n",
       " ['D', 'P', 'J'],\n",
       " ['L', 'G', 'P', 'Z', 'F', 'J', 'T', 'R'],\n",
       " ['N', 'L', 'H', 'C', 'F', 'P', 'T', 'J'],\n",
       " ['G', 'V', 'Z', 'Q', 'H', 'T', 'C', 'W']]"
      ]
     },
     "execution_count": 92,
     "metadata": {},
     "output_type": "execute_result"
    }
   ],
   "source": [
    "all_stacks = [[] for _ in range(num_stacks)]\n",
    "\n",
    "for i, s in enumerate(stacks[:-1]):\n",
    "    tmp = [' '] + list(s)\n",
    "    \n",
    "    for j, c in enumerate(np.array_split(tmp, len(tmp)//4)):\n",
    "        #print(f\"[{i}]\\t{j}\\t{c[-2]}\")\n",
    "        if c[-2] != ' ':\n",
    "            all_stacks[j].insert(0, c[-2])\n",
    "            \n",
    "all_stacks"
   ]
  },
  {
   "cell_type": "code",
   "execution_count": 93,
   "id": "9f0f4738",
   "metadata": {},
   "outputs": [
    {
     "name": "stdout",
     "output_type": "stream",
     "text": [
      "------------------------------------------------------------\n",
      "move 2 from 2 to 8 (from 2 to 8)\n",
      "2 ['W', 'T', 'C', 'P']\n",
      "8 ['N', 'L', 'H', 'C', 'F', 'P', 'T', 'J']\n",
      "\n",
      "2 ['W', 'T']\n",
      "8 ['N', 'L', 'H', 'C', 'F', 'P', 'T', 'J', 'C', 'P']\n",
      "\n",
      "------------------------------------------------------------\n",
      "move 2 from 1 to 6 (from 1 to 6)\n",
      "1 ['F', 'C', 'P', 'G', 'Q', 'R']\n",
      "6 ['D', 'P', 'J']\n",
      "\n",
      "1 ['F', 'C', 'P', 'G']\n",
      "6 ['D', 'P', 'J', 'Q', 'R']\n",
      "\n",
      "------------------------------------------------------------\n",
      "move 8 from 7 to 1 (from 7 to 1)\n",
      "7 ['L', 'G', 'P', 'Z', 'F', 'J', 'T', 'R']\n",
      "1 ['F', 'C', 'P', 'G']\n",
      "\n",
      "7 []\n",
      "1 ['F', 'C', 'P', 'G', 'L', 'G', 'P', 'Z', 'F', 'J', 'T', 'R']\n",
      "\n",
      "------------------------------------------------------------\n",
      "move 7 from 5 to 4 (from 5 to 4)\n",
      "5 ['P', 'H', 'J', 'Z', 'V', 'G', 'N']\n",
      "4 ['L', 'T', 'Q', 'S', 'M', 'P', 'R']\n",
      "\n",
      "5 []\n",
      "4 ['L', 'T', 'Q', 'S', 'M', 'P', 'R', 'P', 'H', 'J', 'Z', 'V', 'G', 'N']\n",
      "\n",
      "------------------------------------------------------------\n",
      "move 1 from 6 to 4 (from 6 to 4)\n",
      "6 ['D', 'P', 'J', 'Q', 'R']\n",
      "4 ['L', 'T', 'Q', 'S', 'M', 'P', 'R', 'P', 'H', 'J', 'Z', 'V', 'G', 'N']\n",
      "\n",
      "6 ['D', 'P', 'J', 'Q']\n",
      "4 ['L', 'T', 'Q', 'S', 'M', 'P', 'R', 'P', 'H', 'J', 'Z', 'V', 'G', 'N', 'R']\n",
      "\n",
      "------------------------------------------------------------\n",
      "move 1 from 6 to 3 (from 6 to 3)\n",
      "6 ['D', 'P', 'J', 'Q']\n",
      "3 ['B', 'H', 'P', 'M', 'C']\n",
      "\n",
      "6 ['D', 'P', 'J']\n",
      "3 ['B', 'H', 'P', 'M', 'C', 'Q']\n",
      "\n",
      "------------------------------------------------------------\n",
      "move 6 from 3 to 5 (from 3 to 5)\n",
      "3 ['B', 'H', 'P', 'M', 'C', 'Q']\n",
      "5 []\n",
      "\n",
      "3 []\n",
      "5 ['B', 'H', 'P', 'M', 'C', 'Q']\n",
      "\n",
      "------------------------------------------------------------\n",
      "move 9 from 8 to 1 (from 8 to 1)\n",
      "8 ['N', 'L', 'H', 'C', 'F', 'P', 'T', 'J', 'C', 'P']\n",
      "1 ['F', 'C', 'P', 'G', 'L', 'G', 'P', 'Z', 'F', 'J', 'T', 'R']\n",
      "\n",
      "8 ['N']\n",
      "1 ['F', 'C', 'P', 'G', 'L', 'G', 'P', 'Z', 'F', 'J', 'T', 'R', 'L', 'H', 'C', 'F', 'P', 'T', 'J', 'C', 'P']\n",
      "\n",
      "------------------------------------------------------------\n",
      "move 3 from 6 to 7 (from 6 to 7)\n",
      "6 ['D', 'P', 'J']\n",
      "7 []\n",
      "\n",
      "6 []\n",
      "7 ['D', 'P', 'J']\n",
      "\n",
      "------------------------------------------------------------\n",
      "move 14 from 4 to 1 (from 4 to 1)\n",
      "4 ['L', 'T', 'Q', 'S', 'M', 'P', 'R', 'P', 'H', 'J', 'Z', 'V', 'G', 'N', 'R']\n",
      "1 ['F', 'C', 'P', 'G', 'L', 'G', 'P', 'Z', 'F', 'J', 'T', 'R', 'L', 'H', 'C', 'F', 'P', 'T', 'J', 'C', 'P']\n",
      "\n",
      "4 ['L']\n",
      "1 ['F', 'C', 'P', 'G', 'L', 'G', 'P', 'Z', 'F', 'J', 'T', 'R', 'L', 'H', 'C', 'F', 'P', 'T', 'J', 'C', 'P', 'T', 'Q', 'S', 'M', 'P', 'R', 'P', 'H', 'J', 'Z', 'V', 'G', 'N', 'R']\n",
      "\n"
     ]
    }
   ],
   "source": [
    "for mid, move in enumerate(moves):\n",
    "    quantity = int(move.split(' from ')[0].split('move ')[1])\n",
    "    source, target = move.split(' from ')[1].split(' to ')\n",
    "    # reduce to match stack indices\n",
    "    source = int(source) - 1\n",
    "    target = int(target) - 1\n",
    "    \n",
    "    if mid < 10:\n",
    "        print('---' * 20)\n",
    "        print(f\"{move} (from {source+1} to {target+1})\")\n",
    "        print(source+1, all_stacks[source])\n",
    "        print(target+1, all_stacks[target])\n",
    "        print()\n",
    "    \n",
    "    to_move = []\n",
    "    for _ in range(quantity):\n",
    "        to_move.insert(0, all_stacks[source].pop())    \n",
    "    \n",
    "    for i in range(quantity):\n",
    "        all_stacks[target].append(to_move[i])\n",
    "    \n",
    "    if mid < 10:\n",
    "        print(source+1, all_stacks[source])\n",
    "        print(target+1, all_stacks[target])\n",
    "        print()"
   ]
  },
  {
   "cell_type": "code",
   "execution_count": 94,
   "id": "67e935a6",
   "metadata": {},
   "outputs": [
    {
     "data": {
      "text/plain": [
       "'WJVRLSJJT'"
      ]
     },
     "execution_count": 94,
     "metadata": {},
     "output_type": "execute_result"
    }
   ],
   "source": [
    "''.join([s[-1] for s in all_stacks])"
   ]
  }
 ],
 "metadata": {
  "kernelspec": {
   "display_name": "Python 3 (ipykernel)",
   "language": "python",
   "name": "python3"
  },
  "language_info": {
   "codemirror_mode": {
    "name": "ipython",
    "version": 3
   },
   "file_extension": ".py",
   "mimetype": "text/x-python",
   "name": "python",
   "nbconvert_exporter": "python",
   "pygments_lexer": "ipython3",
   "version": "3.9.12"
  }
 },
 "nbformat": 4,
 "nbformat_minor": 5
}
